{
  "nbformat": 4,
  "nbformat_minor": 0,
  "metadata": {
    "colab": {
      "provenance": [],
      "authorship_tag": "ABX9TyNzUYgvFJLin16LFqlNXUGX",
      "include_colab_link": true
    },
    "kernelspec": {
      "name": "python3",
      "display_name": "Python 3"
    },
    "language_info": {
      "name": "python"
    }
  },
  "cells": [
    {
      "cell_type": "markdown",
      "metadata": {
        "id": "view-in-github",
        "colab_type": "text"
      },
      "source": [
        "<a href=\"https://colab.research.google.com/github/dcabarcase/Proyecto-de-Vision/blob/main/AvanceProyecto.ipynb\" target=\"_parent\"><img src=\"https://colab.research.google.com/assets/colab-badge.svg\" alt=\"Open In Colab\"/></a>"
      ]
    },
    {
      "cell_type": "code",
      "source": [
        "pip install img2pdf"
      ],
      "metadata": {
        "id": "a902-JSxie9a"
      },
      "execution_count": null,
      "outputs": []
    },
    {
      "cell_type": "code",
      "execution_count": 184,
      "metadata": {
        "id": "Q-t-x8A8xhf4"
      },
      "outputs": [],
      "source": [
        "import numpy as np\n",
        "import cv2 \n",
        "from google.colab.patches import cv2_imshow # for image display\n",
        "from skimage import io\n",
        "from PIL import Image \n",
        "import matplotlib.pylab as plt\n",
        "import urllib.request\n",
        "import numpy as np\n",
        "from PIL import Image \n",
        "import urllib.request\n",
        "import img2pdf\n",
        "import tempfile"
      ]
    },
    {
      "cell_type": "code",
      "source": [
        "#@title\n",
        "#Filtros \n",
        "def distance(point1,point2):\n",
        "    return np.sqrt((point1[0]-point2[0])**2 + (point1[1]-point2[1])**2)\n",
        "def gaussianLP(D0,imgShape):\n",
        "    base = np.zeros(imgShape[:2])\n",
        "    rows, cols = imgShape[:2]\n",
        "    center = (rows/2,cols/2)\n",
        "    for x in range(cols):\n",
        "        for y in range(rows):\n",
        "            base[y,x] = np.exp(((-distance((y,x),center)**2)/(2*(D0**2))))\n",
        "    return base\n",
        "def gaussianHP(D0,imgShape):\n",
        "    base = np.zeros(imgShape[:2])\n",
        "    rows, cols = imgShape[:2]\n",
        "    center = (rows/2,cols/2)\n",
        "    for x in range(cols):\n",
        "        for y in range(rows):\n",
        "            base[y,x] = 1 - np.exp(((-distance((y,x),center)**2)/(2*(D0**2))))\n",
        "    return base"
      ],
      "metadata": {
        "id": "LvBp9zoGxrjl",
        "cellView": "form"
      },
      "execution_count": null,
      "outputs": []
    },
    {
      "cell_type": "code",
      "source": [
        "IMAGE_URL = 'https://github.com/dcabarcase/Proyecto-de-Vision/blob/main/avcc.jpeg?raw=true'\n",
        "im = io.imread(IMAGE_URL) \n",
        "def filtrado_inicial(im):\n",
        "    imgray = cv2.cvtColor(im, cv2.COLOR_RGB2GRAY) #Poner la imagen en escala de grises\n",
        "    imfil = cv2.GaussianBlur(imgray, (5,5), 0) #filtro Gaussiano para suavizar la imagen y reducir el ruido\n",
        "    cv2_imshow(imfil) \n",
        "    return imfil"
      ],
      "metadata": {
        "id": "LctY4_1BL00w"
      },
      "execution_count": 186,
      "outputs": []
    },
    {
      "cell_type": "code",
      "source": [
        "def rotacion(imfil):\n",
        "    imrot = cv2.rotate(imfil,cv2.ROTATE_90_COUNTERCLOCKWISE)\n",
        "    cv2_imshow(imrot)   "
      ],
      "metadata": {
        "id": "Jks_mCWg12A0"
      },
      "execution_count": 187,
      "outputs": []
    },
    {
      "cell_type": "code",
      "source": [
        "def calcular_histograma(imfil):\n",
        "    hist = plt.hist(imfil.ravel(), bins=256, range=[0,256])\n",
        "    plt.show(hist)\n",
        "    frecuencias = hist[0]\n",
        "    bins = hist[1]\n",
        "    valor_max = np.argmax(frecuencias)\n",
        "    print(\"El valor máximo del histograma es:\", valor_max)\n",
        "calcular_histograma(imfil)  "
      ],
      "metadata": {
        "colab": {
          "base_uri": "https://localhost:8080/",
          "height": 282
        },
        "id": "rfCX3QvhMqfl",
        "outputId": "c3fcaa11-c0f0-4a0c-a8f6-b3b3162d3de7"
      },
      "execution_count": 188,
      "outputs": [
        {
          "output_type": "display_data",
          "data": {
            "text/plain": [
              "<Figure size 432x288 with 1 Axes>"
            ],
            "image/png": "[encoded data removed]"
          },
          "metadata": {
            "needs_background": "light"
          }
        },
        {
          "output_type": "stream",
          "name": "stdout",
          "text": [
            "El valor máximo del histograma es: 185\n"
          ]
        }
      ]
    },
    {
      "cell_type": "code",
      "source": [
        "def procesado_imagen():\n",
        "    #(T, threshImg) = cv2.threshold(imfil, 155, 255, cv2.THRESH_BINARY) Manual\n",
        "    #(T, threshImg) = cv2.threshold(imfil, 0, 255, cv2.THRESH_BINARY| cv2.THRESH_OTSU) #Metodo de OTSU\n",
        "    imumbral = cv2.adaptiveThreshold(imfil, 255, cv2.ADAPTIVE_THRESH_GAUSSIAN_C, cv2.THRESH_BINARY, 11, 2) #Metodo Gaussiano\n",
        "    #imumbral = threshImg.copy()\n",
        "    kernel = np.ones((1,1),np.uint8)\n",
        "    erosion = cv2.erode(imumbral,kernel,iterations = 1)\n",
        "    dilation = cv2.dilate(erosion,kernel,iterations = 2)   \n",
        "    return dilation"
      ],
      "metadata": {
        "id": "zOoshX2qNMrd"
      },
      "execution_count": 199,
      "outputs": []
    },
    {
      "cell_type": "code",
      "source": [
        "def conver_pdf():\n",
        "    #Impresión de PDF para la imagen escaneada\n",
        "    dilation = procesado_imagen()\n",
        "    imagen_pil = Image.fromarray(dilation)  # Convertir a formato PIL\n",
        "    # Guardar la imagen en un archivo temporal en formato .jpg\n",
        "    scan_jpg = 'resultado.jpg'\n",
        "    imagen_pil.save(scan_jpg, 'JPEG')\n",
        "    # Convertir la imagen a formato pdf y guardarla en un archivo\n",
        "    with open('Scaner.pdf', 'wb') as f:\n",
        "        f.write(img2pdf.convert([scan_jpg], dpi=300))\n",
        "conver_pdf()        "
      ],
      "metadata": {
        "id": "Vqhtcndjh7HO"
      },
      "execution_count": 200,
      "outputs": []
    }
  ]
}